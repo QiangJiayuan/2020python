{
  "nbformat": 4,
  "nbformat_minor": 0,
  "metadata": {
    "colab": {
      "name": "Python03_(Answers).ipynb",
      "provenance": [],
      "include_colab_link": true
    },
    "kernelspec": {
      "name": "python3",
      "display_name": "Python 3"
    }
  },
  "cells": [
    {
      "cell_type": "markdown",
      "metadata": {
        "id": "view-in-github",
        "colab_type": "text"
      },
      "source": [
        "<a href=\"https://colab.research.google.com/github/sh4d0whun73r/2020python/blob/master/Python03_(Answers).ipynb\" target=\"_parent\"><img src=\"https://colab.research.google.com/assets/colab-badge.svg\" alt=\"Open In Colab\"/></a>"
      ]
    },
    {
      "cell_type": "markdown",
      "metadata": {
        "id": "F5WVWH3ouVfH",
        "colab_type": "text"
      },
      "source": [
        "# **Loops / Repetition / Iteration**\n",
        "\n",
        "repeat a fixed pattern many times\n",
        "\n",
        "\n",
        "2 types of loops in Python\n",
        "\n",
        "*   for (fixed number of times)\n",
        "*   while (variable number of times, 0 or more)\n",
        "\n"
      ]
    },
    {
      "cell_type": "code",
      "metadata": {
        "id": "fTH5-pSNuOVx",
        "colab_type": "code",
        "outputId": "a9d461e7-6eaf-4600-8701-c5527d4814d9",
        "colab": {
          "base_uri": "https://localhost:8080/",
          "height": 195
        }
      },
      "source": [
        "# for (range)\n",
        "for i in range(10): # loop condition\n",
        "  print(\"Good morning!\") # loop body"
      ],
      "execution_count": 19,
      "outputs": [
        {
          "output_type": "stream",
          "text": [
            "Good morning!\n",
            "Good morning!\n",
            "Good morning!\n",
            "Good morning!\n",
            "Good morning!\n",
            "Good morning!\n",
            "Good morning!\n",
            "Good morning!\n",
            "Good morning!\n",
            "Good morning!\n"
          ],
          "name": "stdout"
        }
      ]
    },
    {
      "cell_type": "code",
      "metadata": {
        "id": "3zIM09aSFuGM",
        "colab_type": "code",
        "outputId": "90c90bcb-2f4a-4efe-99dd-bfaf22f89bf9",
        "colab": {
          "base_uri": "https://localhost:8080/",
          "height": 106
        }
      },
      "source": [
        "# for (print 1 to n)\n",
        "for i in range(0, 5): # range(5), if i < 5\n",
        "  print(i)\n",
        "  # i auto increment by 1"
      ],
      "execution_count": 18,
      "outputs": [
        {
          "output_type": "stream",
          "text": [
            "0\n",
            "1\n",
            "2\n",
            "3\n",
            "4\n"
          ],
          "name": "stdout"
        }
      ]
    },
    {
      "cell_type": "code",
      "metadata": {
        "id": "GY8NBPWWHKir",
        "colab_type": "code",
        "outputId": "209adc70-42fe-4da5-c525-e01066ad32da",
        "colab": {
          "base_uri": "https://localhost:8080/",
          "height": 35
        }
      },
      "source": [
        "# for (sum 1 to n) i.e. 1 + 2 + 3 + ... + n\n",
        "total = 0\n",
        "n = 100\n",
        "for i in range(1, n+1):\n",
        "  # total = total + i # 0 + 1, 1 + 2, 3 + 3, ...\n",
        "  total += i \n",
        "print(total)"
      ],
      "execution_count": 17,
      "outputs": [
        {
          "output_type": "stream",
          "text": [
            "5050\n"
          ],
          "name": "stdout"
        }
      ]
    },
    {
      "cell_type": "code",
      "metadata": {
        "id": "uPs60uSXugpb",
        "colab_type": "code",
        "colab": {}
      },
      "source": [
        "# for (iterable)\n",
        "# iterate over string\n"
      ],
      "execution_count": 0,
      "outputs": []
    },
    {
      "cell_type": "code",
      "metadata": {
        "id": "FwNgjJmBGJzF",
        "colab_type": "code",
        "outputId": "6c3ed3c2-fdbb-4349-c5fa-ca4bfe16a42a",
        "colab": {
          "base_uri": "https://localhost:8080/",
          "height": 35
        }
      },
      "source": [
        "# for (with step)\n",
        "# all odd numbers between 1 to 10 inclusive\n",
        "#for i in range(1, 11):\n",
        "#  if i % 2 == 1: # odd\n",
        "#    print(i, end=' ')\n",
        "\n",
        "for i in range(1, 11, 2):\n",
        "  print(i, end=' ')"
      ],
      "execution_count": 16,
      "outputs": [
        {
          "output_type": "stream",
          "text": [
            "1 3 5 7 9 "
          ],
          "name": "stdout"
        }
      ]
    },
    {
      "cell_type": "code",
      "metadata": {
        "id": "d71_2jJ-GOq6",
        "colab_type": "code",
        "outputId": "b0f7c45d-0037-4eb8-d21a-4996c9374e06",
        "colab": {
          "base_uri": "https://localhost:8080/",
          "height": 35
        }
      },
      "source": [
        "# for (count down)\n",
        "for i in range(9, 0, -2):\n",
        "  print(i, end=' ')"
      ],
      "execution_count": 15,
      "outputs": [
        {
          "output_type": "stream",
          "text": [
            "9 7 5 3 1 "
          ],
          "name": "stdout"
        }
      ]
    },
    {
      "cell_type": "code",
      "metadata": {
        "id": "mR70NoG0u7BG",
        "colab_type": "code",
        "outputId": "f3397f9d-a71d-448f-9c50-16defc60702f",
        "colab": {
          "base_uri": "https://localhost:8080/",
          "height": 35
        }
      },
      "source": [
        "# while (print 1 to n)\n",
        "i = 1 # initialise\n",
        "n = 10\n",
        "while i <= n: # loop condition\n",
        "  print(i, end=' ') # loop body\n",
        "  i = i + 1 # update loop control\n",
        "  # i += 1 "
      ],
      "execution_count": 14,
      "outputs": [
        {
          "output_type": "stream",
          "text": [
            "1 2 3 4 5 6 7 8 9 10 "
          ],
          "name": "stdout"
        }
      ]
    },
    {
      "cell_type": "code",
      "metadata": {
        "id": "5tG8MrByHff8",
        "colab_type": "code",
        "outputId": "0ec697ee-dd19-4141-cb9c-1243677e887e",
        "colab": {
          "base_uri": "https://localhost:8080/",
          "height": 35
        }
      },
      "source": [
        "# while (sum 1 to n)\n",
        "i = 1\n",
        "n = 10\n",
        "total = 0\n",
        "while i <= n:\n",
        "  total = total + i # total += i\n",
        "  i = i + 1         # i += 1\n",
        "print(total)"
      ],
      "execution_count": 13,
      "outputs": [
        {
          "output_type": "stream",
          "text": [
            "55\n"
          ],
          "name": "stdout"
        }
      ]
    },
    {
      "cell_type": "code",
      "metadata": {
        "id": "AcDQ8qngHhal",
        "colab_type": "code",
        "colab": {
          "base_uri": "https://localhost:8080/",
          "height": 230
        },
        "outputId": "86c65ab7-9ff0-47b7-caf8-063d2119f498"
      },
      "source": [
        "# while (guessing game)\n",
        "import random\n",
        "\n",
        "lucky = random.randint(1,100)\n",
        "running = True\n",
        "\n",
        "while running:\n",
        "  guess = int(input(\"Enter your Guess between 1 and 100:\"))\n",
        "  if guess == lucky:\n",
        "    print(\"Bingo!\")\n",
        "    running = False\n",
        "  elif guess < lucky:\n",
        "    print(\"A bit higher please!\")\n",
        "  else:\n",
        "    print(\"A bit lower please!\")"
      ],
      "execution_count": 12,
      "outputs": [
        {
          "output_type": "stream",
          "text": [
            "Enter your Guess between 1 and 100:50\n",
            "A bit higher please!\n",
            "Enter your Guess between 1 and 100:75\n",
            "A bit higher please!\n",
            "Enter your Guess between 1 and 100:85\n",
            "A bit lower please!\n",
            "Enter your Guess between 1 and 100:80\n",
            "A bit lower please!\n",
            "Enter your Guess between 1 and 100:77\n",
            "A bit higher please!\n",
            "Enter your Guess between 1 and 100:78\n",
            "Bingo!\n"
          ],
          "name": "stdout"
        }
      ]
    },
    {
      "cell_type": "markdown",
      "metadata": {
        "id": "XKgu8eOxJyoY",
        "colab_type": "text"
      },
      "source": [
        "## **Exercise: Be positive v1**\n",
        "\n",
        "Write a program to prompt the user for x positive integers, one at a time. Compute and output the sum of all x integers entered.\n",
        "\n",
        "Enhance your program to also compute and output the average of the x positive integers."
      ]
    },
    {
      "cell_type": "code",
      "metadata": {
        "id": "0msfEqHKHycq",
        "colab_type": "code",
        "colab": {
          "base_uri": "https://localhost:8080/",
          "height": 159
        },
        "outputId": "1f795fbe-93ed-4036-ed0a-01a492f5205a"
      },
      "source": [
        "x = int(input(\"Enter x: \"))\n",
        "total = 0\n",
        "\n",
        "for i in range(x):\n",
        "  num = int(input(\"enter positive integer: \"))\n",
        "  total += num\n",
        "\n",
        "print(\"Total Sum: \" + str(total))\n",
        "print(\"Average: \" + str(total/x))"
      ],
      "execution_count": 24,
      "outputs": [
        {
          "output_type": "stream",
          "text": [
            "Enter x: 5\n",
            "enter positive integer: 22\n",
            "enter positive integer: 3\n",
            "enter positive integer: 55\n",
            "enter positive integer: 14\n",
            "enter positive integer: 26\n",
            "Total Sum: 120\n",
            "Average: 24.0\n"
          ],
          "name": "stdout"
        }
      ]
    },
    {
      "cell_type": "markdown",
      "metadata": {
        "colab_type": "text",
        "id": "Nb-fjjjQKlV4"
      },
      "source": [
        "## **Exercise: Be positive v2**\n",
        "\n",
        "Write a program to prompt the user for x positive integers, one at a time, until the user terminates with -1. Compute and output the sum of all x integers entered.\n",
        "\n",
        "Enhance your program to also the largest and smallest numbers entered."
      ]
    },
    {
      "cell_type": "code",
      "metadata": {
        "id": "gyl8_Yh0LI6u",
        "colab_type": "code",
        "colab": {
          "base_uri": "https://localhost:8080/",
          "height": 159
        },
        "outputId": "18fa69b7-057e-42b8-bf9c-714b799fe883"
      },
      "source": [
        "total = 0\n",
        "count = 0\n",
        "highest = 0\n",
        "lowest = 101\n",
        "num = 0\n",
        "\n",
        "while num != -1:\n",
        "  num = int(input(\"Enter positive number between 1 - 100: \"))\n",
        "  if num > 0:\n",
        "    total += num\n",
        "    count += 1\n",
        "    if num > highest:\n",
        "      highest = num\n",
        "    elif num < lowest:\n",
        "      lowest = num\n",
        "  elif num == -1:\n",
        "    break\n",
        "\n",
        "print(\"Total Sum: \" + str(total))\n",
        "print(\"Average: \" + str(f\"{(total/count):.2f}\"))\n",
        "print(\"Highest Number: \" + str(highest))\n",
        "print(\"Lowest Number: \" + str(lowest))"
      ],
      "execution_count": 38,
      "outputs": [
        {
          "output_type": "stream",
          "text": [
            "Enter positive number between 1 - 100: 8\n",
            "Enter positive number between 1 - 100: 6\n",
            "Enter positive number between 1 - 100: 9\n",
            "Enter positive number between 1 - 100: -1\n",
            "Total Sum: 23\n",
            "Average: 7.67\n",
            "Highest Number: 9\n",
            "Lowest Number: 6\n"
          ],
          "name": "stdout"
        }
      ]
    }
  ]
}