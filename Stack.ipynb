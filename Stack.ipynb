{
  "nbformat": 4,
  "nbformat_minor": 0,
  "metadata": {
    "colab": {
      "name": "Stack.ipynb",
      "provenance": [],
      "include_colab_link": true
    },
    "kernelspec": {
      "name": "python3",
      "display_name": "Python 3"
    }
  },
  "cells": [
    {
      "cell_type": "markdown",
      "metadata": {
        "id": "view-in-github",
        "colab_type": "text"
      },
      "source": [
        "<a href=\"https://colab.research.google.com/github/sh4d0whun73r/2020python/blob/master/Stack.ipynb\" target=\"_parent\"><img src=\"https://colab.research.google.com/assets/colab-badge.svg\" alt=\"Open In Colab\"/></a>"
      ]
    },
    {
      "cell_type": "markdown",
      "metadata": {
        "id": "WYDSZcGSKwqH",
        "colab_type": "text"
      },
      "source": [
        "# Stack\n",
        "- last in first out (LIFO) data structure\n",
        "- essential data: data, top\n",
        "- top is the position when the next item will be inserted or removed\n",
        "- can be implemented using array or linked list"
      ]
    },
    {
      "cell_type": "code",
      "metadata": {
        "id": "RgRsqtYFKrH0",
        "colab_type": "code",
        "outputId": "ee0ad94b-adc4-404a-f80c-58da4943871c",
        "colab": {
          "base_uri": "https://localhost:8080/",
          "height": 187
        }
      },
      "source": [
        "# Stack class\n",
        "class Stack:\n",
        "\n",
        "  def __init__(self): # encapsulation\n",
        "    self.data = []\n",
        "    self.top = -1 # assume/take -1 to be invalid index\n",
        "\n",
        "  def is_empty(self):\n",
        "    return self.top == -1\n",
        "\n",
        "  def push(self, value): # insert\n",
        "    self.top = 0\n",
        "    self.data.insert(0, value)\n",
        "    print(value, \"inserted\")\n",
        "\n",
        "  def pop(self): # delete\n",
        "    if self.is_empty():\n",
        "      print(\"Cannot delete from empty stack\")\n",
        "      return -1 # signify error\n",
        "    else:\n",
        "      value = self.data[self.top]\n",
        "      del self.data[self.top]\n",
        "      print(value, \"deleted\")\n",
        "      if len(self.data) == 0:\n",
        "        self.top = -1\n",
        "      return value\n",
        "\n",
        "  def display(self):\n",
        "    if self.is_empty():\n",
        "      print(\"Empty stack\")\n",
        "    else:\n",
        "      print(\"Contents: \", end='')\n",
        "      for item in self.data:\n",
        "        print(item, end=' ')\n",
        "      print()\n",
        "\n",
        "# main\n",
        "stack = Stack()\n",
        "stack.push(35)\n",
        "stack.push(88)\n",
        "stack.push(19)\n",
        "#print(stack.data, stack.top)\n",
        "stack.display()\n",
        "stack.pop()\n",
        "stack.display()\n",
        "stack.pop()\n",
        "stack.pop()\n",
        "stack.pop()\n",
        "stack.display()"
      ],
      "execution_count": 0,
      "outputs": [
        {
          "output_type": "stream",
          "text": [
            "35 inserted\n",
            "88 inserted\n",
            "19 inserted\n",
            "Contents: 19 88 35 \n",
            "19 deleted\n",
            "Contents: 88 35 \n",
            "88 deleted\n",
            "35 deleted\n",
            "Cannot delete from empty stack\n",
            "Empty stack\n"
          ],
          "name": "stdout"
        }
      ]
    },
    {
      "cell_type": "markdown",
      "metadata": {
        "id": "xZnIB3u5jMmL",
        "colab_type": "text"
      },
      "source": [
        "Implement stack using append instead of insert"
      ]
    },
    {
      "cell_type": "code",
      "metadata": {
        "id": "3RQ4PGggc6sH",
        "colab_type": "code",
        "outputId": "b3f44a93-d721-47b6-9837-fcb6ede31b73",
        "colab": {
          "base_uri": "https://localhost:8080/",
          "height": 34
        }
      },
      "source": [
        "stack.top"
      ],
      "execution_count": 0,
      "outputs": [
        {
          "output_type": "execute_result",
          "data": {
            "text/plain": [
              "-1"
            ]
          },
          "metadata": {
            "tags": []
          },
          "execution_count": 6
        }
      ]
    },
    {
      "cell_type": "code",
      "metadata": {
        "id": "ufT0KeA1c9ZR",
        "colab_type": "code",
        "colab": {}
      },
      "source": [
        ""
      ],
      "execution_count": 0,
      "outputs": []
    }
  ]
}