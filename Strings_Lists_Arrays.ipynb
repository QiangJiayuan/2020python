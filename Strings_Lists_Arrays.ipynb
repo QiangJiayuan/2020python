{
  "nbformat": 4,
  "nbformat_minor": 0,
  "metadata": {
    "colab": {
      "name": "Strings Lists Arrays",
      "provenance": [],
      "include_colab_link": true
    },
    "kernelspec": {
      "name": "python3",
      "display_name": "Python 3"
    }
  },
  "cells": [
    {
      "cell_type": "markdown",
      "metadata": {
        "id": "view-in-github",
        "colab_type": "text"
      },
      "source": [
        "<a href=\"https://colab.research.google.com/github/sh4d0whun73r/2020python/blob/master/Strings_Lists_Arrays.ipynb\" target=\"_parent\"><img src=\"https://colab.research.google.com/assets/colab-badge.svg\" alt=\"Open In Colab\"/></a>"
      ]
    },
    {
      "cell_type": "markdown",
      "metadata": {
        "id": "_sIeTutwNGJK",
        "colab_type": "text"
      },
      "source": [
        "# **Strings**"
      ]
    },
    {
      "cell_type": "code",
      "metadata": {
        "id": "c0Laao7eMfF0",
        "colab_type": "code",
        "colab": {
          "base_uri": "https://localhost:8080/",
          "height": 35
        },
        "outputId": "b14e5be0-7227-4dd6-eb23-206272627be7"
      },
      "source": [
        "# 3 ways to declare strings\n",
        "s1 = 'Tom' # single quote\n",
        "s2 = \"Tom's cat\" # double quote\n",
        "# triple quote\n",
        "'''\n",
        "This is a paragraph\n",
        "of text\n",
        "'''"
      ],
      "execution_count": 1,
      "outputs": [
        {
          "output_type": "execute_result",
          "data": {
            "text/plain": [
              "'\\nThis is a paragraph\\nof text\\n'"
            ]
          },
          "metadata": {
            "tags": []
          },
          "execution_count": 1
        }
      ]
    },
    {
      "cell_type": "code",
      "metadata": {
        "id": "EcA9hvUeaEHb",
        "colab_type": "code",
        "colab": {
          "base_uri": "https://localhost:8080/",
          "height": 35
        },
        "outputId": "c8f30c36-7a1e-4c2f-9156-460766f47973"
      },
      "source": [
        "# string operation - length\n",
        "len(s1)"
      ],
      "execution_count": 2,
      "outputs": [
        {
          "output_type": "execute_result",
          "data": {
            "text/plain": [
              "3"
            ]
          },
          "metadata": {
            "tags": []
          },
          "execution_count": 2
        }
      ]
    },
    {
      "cell_type": "code",
      "metadata": {
        "id": "iTVUAG1xbh6v",
        "colab_type": "code",
        "colab": {
          "base_uri": "https://localhost:8080/",
          "height": 35
        },
        "outputId": "e9ebdf97-1867-4af1-a744-4a44219c62fe"
      },
      "source": [
        "# string operation - ord\n",
        "ord(\"A\")"
      ],
      "execution_count": 5,
      "outputs": [
        {
          "output_type": "execute_result",
          "data": {
            "text/plain": [
              "65"
            ]
          },
          "metadata": {
            "tags": []
          },
          "execution_count": 5
        }
      ]
    },
    {
      "cell_type": "code",
      "metadata": {
        "id": "lAiFKixsbrGe",
        "colab_type": "code",
        "colab": {
          "base_uri": "https://localhost:8080/",
          "height": 35
        },
        "outputId": "38934324-e1d9-47ea-a8d8-2c4a71990945"
      },
      "source": [
        "# string operation - chr\n",
        "chr(65)"
      ],
      "execution_count": 6,
      "outputs": [
        {
          "output_type": "execute_result",
          "data": {
            "text/plain": [
              "'A'"
            ]
          },
          "metadata": {
            "tags": []
          },
          "execution_count": 6
        }
      ]
    },
    {
      "cell_type": "code",
      "metadata": {
        "id": "NNwtPfDobws3",
        "colab_type": "code",
        "colab": {
          "base_uri": "https://localhost:8080/",
          "height": 35
        },
        "outputId": "e657c050-bb80-4f47-f7c6-296f2d605ab2"
      },
      "source": [
        "# string operation - str\n",
        "str(123)"
      ],
      "execution_count": 7,
      "outputs": [
        {
          "output_type": "execute_result",
          "data": {
            "text/plain": [
              "'123'"
            ]
          },
          "metadata": {
            "tags": []
          },
          "execution_count": 7
        }
      ]
    },
    {
      "cell_type": "code",
      "metadata": {
        "id": "OeQ7k5ZHZhZv",
        "colab_type": "code",
        "colab": {
          "base_uri": "https://localhost:8080/",
          "height": 35
        },
        "outputId": "a2d50209-fad7-4383-fcff-2865904afea4"
      },
      "source": [
        "# accessing individual characters\n",
        "s1 = \"Spiderman\"\n",
        "# first\n",
        "s1[0]\n",
        "# second\n",
        "s1[1]\n",
        "# last\n",
        "s1[len(s1)-1]"
      ],
      "execution_count": 9,
      "outputs": [
        {
          "output_type": "execute_result",
          "data": {
            "text/plain": [
              "'n'"
            ]
          },
          "metadata": {
            "tags": []
          },
          "execution_count": 9
        }
      ]
    },
    {
      "cell_type": "code",
      "metadata": {
        "id": "Aq2iiGW0azMO",
        "colab_type": "code",
        "colab": {
          "base_uri": "https://localhost:8080/",
          "height": 70
        },
        "outputId": "67f8add7-c3e5-4b1d-b1b8-38602b76e375"
      },
      "source": [
        "# for in\n",
        "for char in s1:\n",
        "    print(char)"
      ],
      "execution_count": 3,
      "outputs": [
        {
          "output_type": "stream",
          "text": [
            "T\n",
            "o\n",
            "m\n"
          ],
          "name": "stdout"
        }
      ]
    },
    {
      "cell_type": "code",
      "metadata": {
        "id": "jtSOADYEZ4qZ",
        "colab_type": "code",
        "colab": {
          "base_uri": "https://localhost:8080/",
          "height": 185
        },
        "outputId": "b9adaef1-3606-45c1-8000-40a79ec81757"
      },
      "source": [
        "# strings are immutable!\n",
        "s1 = 'Tom'\n",
        "s1[0] = 'M'"
      ],
      "execution_count": 46,
      "outputs": [
        {
          "output_type": "error",
          "ename": "TypeError",
          "evalue": "ignored",
          "traceback": [
            "\u001b[0;31m---------------------------------------------------------------------------\u001b[0m",
            "\u001b[0;31mTypeError\u001b[0m                                 Traceback (most recent call last)",
            "\u001b[0;32m<ipython-input-46-3c230cd78202>\u001b[0m in \u001b[0;36m<module>\u001b[0;34m()\u001b[0m\n\u001b[1;32m      1\u001b[0m \u001b[0ms1\u001b[0m \u001b[0;34m=\u001b[0m \u001b[0;34m'Tom'\u001b[0m\u001b[0;34m\u001b[0m\u001b[0;34m\u001b[0m\u001b[0m\n\u001b[0;32m----> 2\u001b[0;31m \u001b[0ms1\u001b[0m\u001b[0;34m[\u001b[0m\u001b[0;36m0\u001b[0m\u001b[0;34m]\u001b[0m \u001b[0;34m=\u001b[0m \u001b[0;34m'M'\u001b[0m\u001b[0;34m\u001b[0m\u001b[0;34m\u001b[0m\u001b[0m\n\u001b[0m",
            "\u001b[0;31mTypeError\u001b[0m: 'str' object does not support item assignment"
          ]
        }
      ]
    },
    {
      "cell_type": "code",
      "metadata": {
        "id": "epoj8FTtaf6z",
        "colab_type": "code",
        "outputId": "0922f680-c130-4aa7-d1cd-b13447b9da0d",
        "colab": {
          "base_uri": "https://localhost:8080/",
          "height": 35
        }
      },
      "source": [
        "# string operation - slicing / substring\n",
        "s = \"Spiderman\"\n",
        "s[0:6]"
      ],
      "execution_count": 12,
      "outputs": [
        {
          "output_type": "execute_result",
          "data": {
            "text/plain": [
              "'Spider'"
            ]
          },
          "metadata": {
            "tags": []
          },
          "execution_count": 12
        }
      ]
    },
    {
      "cell_type": "code",
      "metadata": {
        "id": "iUrkzp9wZqiy",
        "colab_type": "code",
        "colab": {
          "base_uri": "https://localhost:8080/",
          "height": 35
        },
        "outputId": "c2cd2986-e8bd-4ce0-ef6e-50ee956eb36d"
      },
      "source": [
        "# string operation - concatenate\n",
        "s1 = \"bat\"\n",
        "s2 = \"man\"\n",
        "s1 + s2"
      ],
      "execution_count": 14,
      "outputs": [
        {
          "output_type": "execute_result",
          "data": {
            "text/plain": [
              "'batman'"
            ]
          },
          "metadata": {
            "tags": []
          },
          "execution_count": 14
        }
      ]
    },
    {
      "cell_type": "code",
      "metadata": {
        "id": "DJzOiEtYZuOB",
        "colab_type": "code",
        "colab": {
          "base_uri": "https://localhost:8080/",
          "height": 55
        },
        "outputId": "c18fe6ff-fb9f-4c96-b31d-ce2395f8b80b"
      },
      "source": [
        "# string operation - duplicate\n",
        "s = \"HA\"\n",
        "s * 100"
      ],
      "execution_count": 13,
      "outputs": [
        {
          "output_type": "execute_result",
          "data": {
            "text/plain": [
              "'HAHAHAHAHAHAHAHAHAHAHAHAHAHAHAHAHAHAHAHAHAHAHAHAHAHAHAHAHAHAHAHAHAHAHAHAHAHAHAHAHAHAHAHAHAHAHAHAHAHAHAHAHAHAHAHAHAHAHAHAHAHAHAHAHAHAHAHAHAHAHAHAHAHAHAHAHAHAHAHAHAHAHAHAHAHAHAHAHAHAHAHAHAHAHAHAHAHAHAHA'"
            ]
          },
          "metadata": {
            "tags": []
          },
          "execution_count": 13
        }
      ]
    },
    {
      "cell_type": "code",
      "metadata": {
        "id": "8Nbhi3FgaHCK",
        "colab_type": "code",
        "colab": {
          "base_uri": "https://localhost:8080/",
          "height": 35
        },
        "outputId": "978a2d23-f7a7-4c5b-a9a7-e8c5249aeb36"
      },
      "source": [
        "# string operation - case\n",
        "s = 'Tom'\n",
        "s.upper() # upper\n",
        "s.lower() # lower"
      ],
      "execution_count": 15,
      "outputs": [
        {
          "output_type": "execute_result",
          "data": {
            "text/plain": [
              "'tom'"
            ]
          },
          "metadata": {
            "tags": []
          },
          "execution_count": 15
        }
      ]
    },
    {
      "cell_type": "code",
      "metadata": {
        "id": "uSSHC-4saPIb",
        "colab_type": "code",
        "colab": {
          "base_uri": "https://localhost:8080/",
          "height": 35
        },
        "outputId": "1283bd9d-c530-4df3-cd84-59ca6a3022dd"
      },
      "source": [
        "# string operation - check numeric\n",
        "s = '17276483'\n",
        "s.isdigit()"
      ],
      "execution_count": 17,
      "outputs": [
        {
          "output_type": "execute_result",
          "data": {
            "text/plain": [
              "True"
            ]
          },
          "metadata": {
            "tags": []
          },
          "execution_count": 17
        }
      ]
    },
    {
      "cell_type": "code",
      "metadata": {
        "id": "lxGeAHKKaS0a",
        "colab_type": "code",
        "colab": {
          "base_uri": "https://localhost:8080/",
          "height": 35
        },
        "outputId": "7e3b9bc8-415b-494d-e62b-da66bf241e6e"
      },
      "source": [
        "# string operation - check alphanumeric\n",
        "s = 'purple'\n",
        "s.isalnum()"
      ],
      "execution_count": 18,
      "outputs": [
        {
          "output_type": "execute_result",
          "data": {
            "text/plain": [
              "True"
            ]
          },
          "metadata": {
            "tags": []
          },
          "execution_count": 18
        }
      ]
    },
    {
      "cell_type": "code",
      "metadata": {
        "id": "itUdd_slttdE",
        "colab_type": "code",
        "colab": {
          "base_uri": "https://localhost:8080/",
          "height": 52
        },
        "outputId": "93034823-a602-4bd4-a974-2dfa1bc5a030"
      },
      "source": [
        "# write program to validate NRIC\n",
        "nric = 'T012345A'\n",
        "valid_nric = False\n",
        "if nric[0] == \"T\":\n",
        "    valid_nric = True\n",
        "if nric[1:-1].isdigit():\n",
        "    valid_nric= True\n",
        "if nric[-1].isalpha():\n",
        "    valid_nric = True\n",
        "print(valid_nric)\n",
        "print(\"Born in 20\" + nric[1:3])"
      ],
      "execution_count": 25,
      "outputs": [
        {
          "output_type": "stream",
          "text": [
            "True\n",
            "Born in 2001\n"
          ],
          "name": "stdout"
        }
      ]
    },
    {
      "cell_type": "code",
      "metadata": {
        "id": "mUMhd32EbLWp",
        "colab_type": "code",
        "colab": {
          "base_uri": "https://localhost:8080/",
          "height": 35
        },
        "outputId": "6ca36707-bbcb-43c4-d661-8690ace4c100"
      },
      "source": [
        "# string operation - reverse\n",
        "s = 'Batman'\n",
        "s[::-1]"
      ],
      "execution_count": 26,
      "outputs": [
        {
          "output_type": "execute_result",
          "data": {
            "text/plain": [
              "'namtaB'"
            ]
          },
          "metadata": {
            "tags": []
          },
          "execution_count": 26
        }
      ]
    },
    {
      "cell_type": "code",
      "metadata": {
        "id": "mWEuim0YcHIy",
        "colab_type": "code",
        "colab": {
          "base_uri": "https://localhost:8080/",
          "height": 52
        },
        "outputId": "be033708-421b-4fc8-bd96-fc9380775d49"
      },
      "source": [
        "from math import pi\n",
        "num = 12345\n",
        "# string formatting\n",
        "# format method\n",
        "print(\"{0:.2f} {1}\".format(pi, num))\n",
        "# f-string (new from Python 3.6)\n",
        "print(f\"{pi:.2f}\")"
      ],
      "execution_count": 33,
      "outputs": [
        {
          "output_type": "stream",
          "text": [
            "3.14 12345\n",
            "3.14\n"
          ],
          "name": "stdout"
        }
      ]
    },
    {
      "cell_type": "markdown",
      "metadata": {
        "id": "BP9l8lA2xZZY",
        "colab_type": "text"
      },
      "source": [
        "# **Lists / Arrays**"
      ]
    },
    {
      "cell_type": "code",
      "metadata": {
        "id": "vSZnnacrxrfk",
        "colab_type": "code",
        "colab": {
          "base_uri": "https://localhost:8080/",
          "height": 52
        },
        "outputId": "00e913f4-ebba-4155-be09-65f5b812d9e0"
      },
      "source": [
        "str1 = 'TOM' # immutable\n",
        "list1 = ['T', 'O', 'M']\n",
        "print(len(s))\n",
        "print(len(list1))"
      ],
      "execution_count": 42,
      "outputs": [
        {
          "output_type": "stream",
          "text": [
            "6\n",
            "3\n"
          ],
          "name": "stdout"
        }
      ]
    },
    {
      "cell_type": "code",
      "metadata": {
        "id": "tnMw4mJrx18V",
        "colab_type": "code",
        "colab": {
          "base_uri": "https://localhost:8080/",
          "height": 35
        },
        "outputId": "bef9c2d4-fe15-499d-d8e9-36c5fb7ffa6e"
      },
      "source": [
        "list1[0] = 'M'\n",
        "list1"
      ],
      "execution_count": 43,
      "outputs": [
        {
          "output_type": "execute_result",
          "data": {
            "text/plain": [
              "['M', 'O', 'M']"
            ]
          },
          "metadata": {
            "tags": []
          },
          "execution_count": 43
        }
      ]
    },
    {
      "cell_type": "code",
      "metadata": {
        "id": "htZbBEd1x8-e",
        "colab_type": "code",
        "colab": {
          "base_uri": "https://localhost:8080/",
          "height": 88
        },
        "outputId": "dfba4004-50ba-4515-91a4-0b5f5da31f06"
      },
      "source": [
        "print(str1[0])\n",
        "print(list1[0])\n",
        "print(str1[-1])\n",
        "print(list1[-1])"
      ],
      "execution_count": 45,
      "outputs": [
        {
          "output_type": "stream",
          "text": [
            "T\n",
            "M\n",
            "m\n",
            "M\n"
          ],
          "name": "stdout"
        }
      ]
    },
    {
      "cell_type": "code",
      "metadata": {
        "id": "imDvHWl7yKLc",
        "colab_type": "code",
        "colab": {
          "base_uri": "https://localhost:8080/",
          "height": 35
        },
        "outputId": "a23e9e98-d09d-469a-f0e6-97139fd3535c"
      },
      "source": [
        "list1 = []\n",
        "list1\n",
        "len(list1)\n",
        "list1.append('B')\n",
        "list1\n",
        "list1.append('a')\n",
        "list1\n",
        "list1.append(pi)\n",
        "list1"
      ],
      "execution_count": 37,
      "outputs": [
        {
          "output_type": "execute_result",
          "data": {
            "text/plain": [
              "['B', 'a', 3.141592653589793]"
            ]
          },
          "metadata": {
            "tags": []
          },
          "execution_count": 37
        }
      ]
    },
    {
      "cell_type": "code",
      "metadata": {
        "id": "ovngPkWcyqE0",
        "colab_type": "code",
        "colab": {
          "base_uri": "https://localhost:8080/",
          "height": 35
        },
        "outputId": "a79ac1a6-eec5-41dc-8d9e-4b5c2598b15d"
      },
      "source": [
        "list1.insert(3, 'Yo')\n",
        "list1"
      ],
      "execution_count": 41,
      "outputs": [
        {
          "output_type": "execute_result",
          "data": {
            "text/plain": [
              "[35, 35, 35, 'Yo', 'B', 'a', 3.141592653589793]"
            ]
          },
          "metadata": {
            "tags": []
          },
          "execution_count": 41
        }
      ]
    }
  ]
}