{
  "nbformat": 4,
  "nbformat_minor": 0,
  "metadata": {
    "colab": {
      "name": "Functions.ipynb",
      "provenance": [],
      "include_colab_link": true
    },
    "kernelspec": {
      "name": "python3",
      "display_name": "Python 3"
    }
  },
  "cells": [
    {
      "cell_type": "markdown",
      "metadata": {
        "id": "view-in-github",
        "colab_type": "text"
      },
      "source": [
        "<a href=\"https://colab.research.google.com/github/sh4d0whun73r/2020python/blob/master/Functions.ipynb\" target=\"_parent\"><img src=\"https://colab.research.google.com/assets/colab-badge.svg\" alt=\"Open In Colab\"/></a>"
      ]
    },
    {
      "cell_type": "markdown",
      "metadata": {
        "id": "T2WJq3h5YVNA",
        "colab_type": "text"
      },
      "source": [
        "# **Functions** \n",
        "A function is a reusable subprogram that performs a well defined task\n",
        "\n",
        "DRY - Don't Repeat Yourself\n",
        "\n",
        "Examples: print(), input(), range(n), randint(low,high)\n",
        "\n",
        "We will create our own functions (user-defined)."
      ]
    },
    {
      "cell_type": "code",
      "metadata": {
        "id": "Ppvm2EMDtVj0",
        "colab_type": "code",
        "outputId": "2e3fcee7-a751-40f5-da53-f12f5f7c9d5b",
        "colab": {
          "base_uri": "https://localhost:8080/",
          "height": 446
        }
      },
      "source": [
        "# Function - no parameters, no (explicit) return\n",
        "\n",
        "def menu():\n",
        "  print(\"(1) Add\")\n",
        "  print(\"(2) Update\")\n",
        "  print(\"(3) Delete\")\n",
        "  print(\"(4) Search\")\n",
        "  print(\"(0) Quit\")\n",
        "\n",
        "option = \"\"\n",
        "while option != '0':\n",
        "  menu()\n",
        "  option = input(\"Enter option: \")\n",
        "print(\"Bye\")\n"
      ],
      "execution_count": 0,
      "outputs": [
        {
          "output_type": "stream",
          "text": [
            "(1) Add\n",
            "(2) Update\n",
            "(3) Delete\n",
            "(4) Search\n",
            "(0) Quit\n",
            "Enter option: 1\n",
            "(1) Add\n",
            "(2) Update\n",
            "(3) Delete\n",
            "(4) Search\n",
            "(0) Quit\n",
            "Enter option: 3\n",
            "(1) Add\n",
            "(2) Update\n",
            "(3) Delete\n",
            "(4) Search\n",
            "(0) Quit\n",
            "Enter option: 2\n",
            "(1) Add\n",
            "(2) Update\n",
            "(3) Delete\n",
            "(4) Search\n",
            "(0) Quit\n",
            "Enter option: 0\n",
            "Bye\n"
          ],
          "name": "stdout"
        }
      ]
    },
    {
      "cell_type": "code",
      "metadata": {
        "id": "Yc0ZLCGQxRo6",
        "colab_type": "code",
        "outputId": "9fafb546-7cef-42f3-e3af-0624ce45ede8",
        "colab": {
          "base_uri": "https://localhost:8080/",
          "height": 141
        }
      },
      "source": [
        "# Function - return\n",
        "def negate(n):\n",
        "    return -n\n",
        "\n",
        "print(\"Press 0 to quit.\")\n",
        "while True:\n",
        "    num = int(input(\"Please give an integer: \"))\n",
        "    if num != 0:\n",
        "        neg = negate(num)\n",
        "        print(f\"{neg:.0f}\")\n",
        "    else:\n",
        "        print(\"Thank you for playing!\")\n",
        "        break"
      ],
      "execution_count": 0,
      "outputs": [
        {
          "output_type": "stream",
          "text": [
            "Press 0 to quit.\n",
            "Please give an integer: 4\n",
            "-4\n",
            "Please give an integer: 2\n",
            "-2\n",
            "Please give an integer: 0\n",
            "Thank you for playing!\n"
          ],
          "name": "stdout"
        }
      ]
    },
    {
      "cell_type": "code",
      "metadata": {
        "id": "-HxSFLZZYp1e",
        "colab_type": "code",
        "outputId": "39f8b9fe-e64d-465b-831b-b677ebe7abbf",
        "colab": {
          "base_uri": "https://localhost:8080/",
          "height": 52
        }
      },
      "source": [
        "# Function - 1 parameter\n",
        "# temperature checker\n",
        "def temp_check(temperature):\n",
        "    if temperature >= 38.0:\n",
        "        return \"HOT!\"\n",
        "    else:\n",
        "        return \"Cool\"\n",
        "\n",
        "temp = float(input(\"State your body temperature: \"))\n",
        "print(temp_check(temp))"
      ],
      "execution_count": 0,
      "outputs": [
        {
          "output_type": "stream",
          "text": [
            "State your body temperature: 42\n",
            "HOT!\n"
          ],
          "name": "stdout"
        }
      ]
    },
    {
      "cell_type": "code",
      "metadata": {
        "id": "NxCt6l5dYuQn",
        "colab_type": "code",
        "outputId": "13d74b5d-06ba-4e95-e4ed-11251c201969",
        "colab": {
          "base_uri": "https://localhost:8080/",
          "height": 70
        }
      },
      "source": [
        "# Function - 2 parameters\n",
        "# display salutation with name\n",
        "def greet(name, gender):\n",
        "    if gender == \"F\":\n",
        "        return \"Miss \" + name\n",
        "    else:\n",
        "        return \"Mr \" + name\n",
        "\n",
        "name = input(\"Please provide your name: \")\n",
        "gender = input(\"Please provide your gender: \")\n",
        "print(greet(name, gender))"
      ],
      "execution_count": 0,
      "outputs": [
        {
          "output_type": "stream",
          "text": [
            "Please provide your name: Zeus\n",
            "Please provide your gender: M\n",
            "Mr Zeus\n"
          ],
          "name": "stdout"
        }
      ]
    },
    {
      "cell_type": "code",
      "metadata": {
        "id": "_fVK1Up6kTy_",
        "colab_type": "code",
        "colab": {
          "base_uri": "https://localhost:8080/",
          "height": 70
        },
        "outputId": "8b49e568-571c-4560-8b93-2fde261a5d76"
      },
      "source": [
        "# if a function does not have a return statement\n",
        "# it will  actually return \"None\"\n",
        "def troll(message):\n",
        "    print(message)\n",
        "\n",
        "print(troll(input(\"Message: \")))"
      ],
      "execution_count": 5,
      "outputs": [
        {
          "output_type": "stream",
          "text": [
            "Message: rofl\n",
            "rofl\n",
            "None\n"
          ],
          "name": "stdout"
        }
      ]
    },
    {
      "cell_type": "markdown",
      "metadata": {
        "id": "C_OD61P8Za1Z",
        "colab_type": "text"
      },
      "source": [
        "## **Exercise: Prime**\n",
        "\n",
        "Write a function is_prime(n) to test whether a number n is prime.\n",
        "\n",
        "Hint: use %"
      ]
    },
    {
      "cell_type": "code",
      "metadata": {
        "id": "nDUDhePVZqlE",
        "colab_type": "code",
        "colab": {
          "base_uri": "https://localhost:8080/",
          "height": 52
        },
        "outputId": "cf03597e-4197-4eaa-afed-e1be6e7838d0"
      },
      "source": [
        "def is_prime(n):\n",
        "    if n == 1:\n",
        "        return False\n",
        "    for i in range(2, n):\n",
        "        if n % i == 0:\n",
        "            return False\n",
        "    return True\n",
        "\n",
        "num = int(input(\"Please provide a integer: \"))\n",
        "print(is_prime(num))"
      ],
      "execution_count": 6,
      "outputs": [
        {
          "output_type": "stream",
          "text": [
            "Please provide a integer: 6\n",
            "False\n"
          ],
          "name": "stdout"
        }
      ]
    },
    {
      "cell_type": "markdown",
      "metadata": {
        "id": "HGHlarxsZDkR",
        "colab_type": "text"
      },
      "source": [
        "# **Import**\n",
        "Reuse, do not reinvent the wheel"
      ]
    },
    {
      "cell_type": "code",
      "metadata": {
        "id": "M-6WYoybZPL8",
        "colab_type": "code",
        "colab": {
          "base_uri": "https://localhost:8080/",
          "height": 52
        },
        "outputId": "e3bbedc2-801e-4c91-ea27-09d21b05eba2"
      },
      "source": [
        "# math\n",
        "import math\n",
        "radius = float(input(\"Radius(m): \"))\n",
        "circum = 2 * math.pi * radius\n",
        "print(f\"{circum:.3f}\" + \"square meter\")"
      ],
      "execution_count": 9,
      "outputs": [
        {
          "output_type": "stream",
          "text": [
            "Radius(m): 63\n",
            "395.841square meter\n"
          ],
          "name": "stdout"
        }
      ]
    },
    {
      "cell_type": "code",
      "metadata": {
        "id": "EiZPQnz5mjkX",
        "colab_type": "code",
        "colab": {
          "base_uri": "https://localhost:8080/",
          "height": 52
        },
        "outputId": "be38730b-84c6-4208-a7f5-8660521e0f58"
      },
      "source": [
        "# math\n",
        "from math import pi\n",
        "\n",
        "radius = float(input(\"Radius(m): \"))\n",
        "circum = 2 * pi * radius\n",
        "print(f\"{circum:.3f}\" + \" square meter\")"
      ],
      "execution_count": 13,
      "outputs": [
        {
          "output_type": "stream",
          "text": [
            "Radius(m): 11\n",
            "69.115 square meter\n"
          ],
          "name": "stdout"
        }
      ]
    },
    {
      "cell_type": "code",
      "metadata": {
        "id": "_lQj4zIka9CT",
        "colab_type": "code",
        "colab": {
          "base_uri": "https://localhost:8080/",
          "height": 35
        },
        "outputId": "88b74556-5b32-4449-f1db-8fdfa0e8f69d"
      },
      "source": [
        "# random\n",
        "from random import randint\n",
        "\n",
        "print(randint(1, 10))"
      ],
      "execution_count": 11,
      "outputs": [
        {
          "output_type": "stream",
          "text": [
            "8\n"
          ],
          "name": "stdout"
        }
      ]
    },
    {
      "cell_type": "code",
      "metadata": {
        "id": "gf37bqBabLfv",
        "colab_type": "code",
        "colab": {
          "base_uri": "https://localhost:8080/",
          "height": 345
        },
        "outputId": "5a0d86eb-848c-4261-f663-2a5c5d4fbc7f"
      },
      "source": [
        "# user-defined function\n",
        "import temp\n",
        "\n",
        "temp.check_temperature(37.0)"
      ],
      "execution_count": 14,
      "outputs": [
        {
          "output_type": "error",
          "ename": "ModuleNotFoundError",
          "evalue": "ignored",
          "traceback": [
            "\u001b[0;31m---------------------------------------------------------------------------\u001b[0m",
            "\u001b[0;31mModuleNotFoundError\u001b[0m                       Traceback (most recent call last)",
            "\u001b[0;32m<ipython-input-14-7309f1cb6925>\u001b[0m in \u001b[0;36m<module>\u001b[0;34m()\u001b[0m\n\u001b[0;32m----> 1\u001b[0;31m \u001b[0;32mimport\u001b[0m \u001b[0mtemp\u001b[0m\u001b[0;34m\u001b[0m\u001b[0;34m\u001b[0m\u001b[0m\n\u001b[0m\u001b[1;32m      2\u001b[0m \u001b[0;34m\u001b[0m\u001b[0m\n\u001b[1;32m      3\u001b[0m \u001b[0mtemp\u001b[0m\u001b[0;34m.\u001b[0m\u001b[0mcheck_temperature\u001b[0m\u001b[0;34m(\u001b[0m\u001b[0;36m37.0\u001b[0m\u001b[0;34m)\u001b[0m\u001b[0;34m\u001b[0m\u001b[0;34m\u001b[0m\u001b[0m\n",
            "\u001b[0;31mModuleNotFoundError\u001b[0m: No module named 'temp'",
            "",
            "\u001b[0;31m---------------------------------------------------------------------------\u001b[0;32m\nNOTE: If your import is failing due to a missing package, you can\nmanually install dependencies using either !pip or !apt.\n\nTo view examples of installing some common dependencies, click the\n\"Open Examples\" button below.\n\u001b[0;31m---------------------------------------------------------------------------\u001b[0m\n"
          ]
        }
      ]
    }
  ]
}